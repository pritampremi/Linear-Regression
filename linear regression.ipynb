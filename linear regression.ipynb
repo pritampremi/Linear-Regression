{
 "cells": [
  {
   "cell_type": "markdown",
   "id": "0755e345",
   "metadata": {},
   "source": [
    "# Linear Regression"
   ]
  },
  {
   "cell_type": "code",
   "execution_count": 14,
   "id": "0b6d8af8",
   "metadata": {},
   "outputs": [
    {
     "name": "stdout",
     "output_type": "stream",
     "text": [
      "b0 = 32.78300590740486\n",
      "b1 = 0.20009616705591426\n",
      "Y1 = [60. 63. 64. 68. 71. 72. 75.]\n",
      "\n",
      "Efficiency = 57.14285714285714\n",
      "\n",
      "Enter weight:90\n",
      "Predicted height = 50.79166094243715\n"
     ]
    },
    {
     "data": {
      "image/png": "[encoded data removed]",
      "text/plain": [
       "<Figure size 432x288 with 1 Axes>"
      ]
     },
     "metadata": {
      "needs_background": "light"
     },
     "output_type": "display_data"
    }
   ],
   "source": [
    "import numpy as np \n",
    "X=np.array([140,155,159,179,192,200,212])\n",
    "Y=np.array([60,62,67,70,71,72,75])\n",
    "n=len(X)\n",
    "sum_X=sum(X)\n",
    "sum_Y=sum(Y)\n",
    "sum_XY=sum(X*Y)\n",
    "X_sqr=sum(np.square(X))\n",
    "b0=((sum_Y)*(X_sqr)-(sum_X)*(sum_XY))/(n*(X_sqr)-((sum_X)**2))\n",
    "print(\"b0 =\",b0)\n",
    "b1=(n*(sum_XY)-(sum_X)*(sum_Y))/(n*(X_sqr)-((sum_X)**2))\n",
    "print(\"b1 =\",b1)\n",
    "Y1=np.array([])\n",
    "for i in X :\n",
    "    y=int(b0+b1*i)\n",
    "    Y1=np.append(Y1,y)\n",
    "print(\"Y1 =\",Y1)\n",
    "\n",
    "count = 0\n",
    "for i in Y:\n",
    "    for j in Y1:\n",
    "        if (i==j) :\n",
    "           count = count+1\n",
    "eff=(count/n)*100\n",
    "print(\"\\nEfficiency =\",eff)\n",
    "\n",
    "\n",
    "x=int(input(\"\\nEnter weight:\"))\n",
    "y_predict=b0+b1*x\n",
    "print(\"Predicted height =\",y_predict)\n",
    "\n",
    "import matplotlib.pyplot as plt\n",
    "plt.scatter(X, Y, color=\"m\", marker=\"o\", s=30)\n",
    "plt.plot(X, Y1, color=\"g\")\n",
    "plt.xlabel('X')\n",
    "plt.ylabel('Y')\n",
    "plt.show()\n"
   ]
  },
  {
   "cell_type": "code",
   "execution_count": 19,
   "id": "2a43ec83",
   "metadata": {},
   "outputs": [
    {
     "name": "stdout",
     "output_type": "stream",
     "text": [
      "X1 = [-0.66037736 14.33962264 18.33962264 38.33962264 51.33962264 59.33962264\n",
      " 71.33962264]\n",
      "mm_b0 = 60.92860827347732\n",
      "mm_b1 = 0.20009616705591426\n",
      "mm_Y1 = [60. 63. 64. 68. 71. 72. 75.]\n",
      "\n",
      "Efficiency = 57.14285714285714\n",
      "\n",
      "Enter weight:90\n",
      "Predicted height = 78.93726330850961\n"
     ]
    },
    {
     "data": {
      "image/png": "[encoded data removed]",
      "text/plain": [
       "<Figure size 432x288 with 1 Axes>"
      ]
     },
     "metadata": {
      "needs_background": "light"
     },
     "output_type": "display_data"
    }
   ],
   "source": [
    "# Min-Max Scaling\n",
    "\n",
    "import numpy as np \n",
    "X=np.array([140,155,159,179,192,200,212])\n",
    "Y=np.array([60,62,67,70,71,72,75])\n",
    "n=len(X)\n",
    "sum_Y=sum(Y)\n",
    "X1 = np.array([])\n",
    "for i in X :\n",
    "    X1 = np.append(X1,(i - np.min(X)/np.max(X) - np.min(X)))\n",
    "print(\"X1 =\",X1)\n",
    "\n",
    "sum_X1=sum(X1)\n",
    "sum_X1Y=sum(X1*Y)\n",
    "X1_sqr=sum(np.square(X1))\n",
    "mm_b0=((sum_Y)*(X1_sqr)-(sum_X1)*(sum_X1Y))/(n*(X1_sqr)-((sum_X1)**2))\n",
    "print(\"mm_b0 =\",mm_b0)\n",
    "mm_b1=(n*(sum_X1Y)-(sum_X1)*(sum_Y))/(n*(X1_sqr)-((sum_X1)**2))\n",
    "print(\"mm_b1 =\",mm_b1)\n",
    "mm_Y1=np.array([])\n",
    "for i in X1 :\n",
    "    mm_y=int(mm_b0+mm_b1*i)\n",
    "    mm_Y1=np.append(mm_Y1,mm_y)\n",
    "print(\"mm_Y1 =\",mm_Y1)\n",
    "\n",
    "count = 0\n",
    "for i in Y:\n",
    "    for j in mm_Y1:\n",
    "        if (i==j) :\n",
    "           count = count+1\n",
    "eff=(count/n)*100\n",
    "print(\"\\nEfficiency =\",eff)\n",
    "\n",
    "\n",
    "mm_x=int(input(\"\\nEnter weight:\"))\n",
    "mm_y_predict=mm_b0+mm_b1*mm_x\n",
    "print(\"Predicted height =\",mm_y_predict)\n",
    "\n",
    "import matplotlib.pyplot as plt\n",
    "plt.scatter(X, Y, color=\"m\", marker=\"o\", s=30)\n",
    "plt.plot(X, mm_Y1, color=\"g\")\n",
    "plt.xlabel('X')\n",
    "plt.ylabel('Y')\n",
    "plt.show()"
   ]
  },
  {
   "cell_type": "code",
   "execution_count": 3,
   "id": "f70c2ac2",
   "metadata": {},
   "outputs": [
    {
     "name": "stdout",
     "output_type": "stream",
     "text": [
      "X2 = [-1.50741564 -0.89154544 -0.72731338  0.09384689  0.62760107  0.95606517\n",
      "  1.44876134]\n",
      "sd_b0 = 68.14285714285714\n",
      "sd_b1 = 4.873498479260369\n",
      "sd_Y1 = [60. 63. 64. 68. 71. 72. 75.]\n",
      "\n",
      "Efficiency = 57.14285714285714\n",
      "\n",
      "Enter weight:209\n",
      "Predicted height = 1086.7040393082743\n"
     ]
    }
   ],
   "source": [
    "# Standardization\n",
    "\n",
    "import numpy as np \n",
    "X=np.array([140,155,159,179,192,200,212])\n",
    "Y=np.array([60,62,67,70,71,72,75])\n",
    "n=len(X)\n",
    "sum_X=sum(X)\n",
    "X_mean = (sum_X/n)\n",
    "Xsq=np.array([])\n",
    "for i in X :\n",
    "    Xsq = np.append(Xsq,((i-X_mean)**2))\n",
    "SD = (sum(Xsq)/n-1)**0.5\n",
    "X2 = np.array([])\n",
    "for i in X :\n",
    "    X2 = np.append(X2,((i-X_mean)/SD))\n",
    "print(\"X2 =\",X2)\n",
    "\n",
    "sum_X2=sum(X2)\n",
    "sum_Y=sum(Y)\n",
    "sum_X2Y=sum(X2*Y)\n",
    "X2_sqr=sum(np.square(X2))\n",
    "b0=((sum_Y)*(X2_sqr)-(sum_X2)*(sum_X2Y))/(n*(X2_sqr)-((sum_X2)**2))\n",
    "print(\"sd_b0 =\",b0)\n",
    "b1=(n*(sum_X2Y)-(sum_X2)*(sum_Y))/(n*(X2_sqr)-((sum_X2)**2))\n",
    "print(\"sd_b1 =\",b1)\n",
    "\n",
    "sd_Y1=np.array([])\n",
    "for i in X2 :\n",
    "    y=int(b0+b1*i)\n",
    "    sd_Y1=np.append(sd_Y1,y)\n",
    "print(\"sd_Y1 =\",sd_Y1)\n",
    "\n",
    "count = 0\n",
    "for i in Y:\n",
    "    for j in sd_Y1:\n",
    "        if (i==j) :\n",
    "           count = count+1\n",
    "eff=(count/n)*100\n",
    "print(\"\\nEfficiency =\",eff)\n",
    "\n",
    "\n",
    "sd_x=int(input(\"\\nEnter weight:\"))\n",
    "sd_y_predict=b0+b1*sd_x\n",
    "print(\"Predicted height =\",sd_y_predict)\n",
    "\n",
    "import matplotlib.pyplot as plt\n",
    "plt.scatter(X, Y, color=\"m\", marker=\"o\", s=30)\n",
    "plt.plot(X, Y1, color=\"g\")\n",
    "plt.xlabel('X')\n",
    "plt.ylabel('Y')\n",
    "plt.show()"
   ]
  },
  {
   "cell_type": "code",
   "execution_count": null,
   "id": "d8cbefb2",
   "metadata": {},
   "outputs": [],
   "source": []
  },
  {
   "cell_type": "code",
   "execution_count": null,
   "id": "f7e528ba",
   "metadata": {},
   "outputs": [],
   "source": []
  },
  {
   "cell_type": "code",
   "execution_count": null,
   "id": "5c4e5d0b",
   "metadata": {},
   "outputs": [],
   "source": []
  },
  {
   "cell_type": "code",
   "execution_count": null,
   "id": "a754912c",
   "metadata": {},
   "outputs": [],
   "source": []
  }
 ],
 "metadata": {
  "kernelspec": {
   "display_name": "Python 3 (ipykernel)",
   "language": "python",
   "name": "python3"
  },
  "language_info": {
   "codemirror_mode": {
    "name": "ipython",
    "version": 3
   },
   "file_extension": ".py",
   "mimetype": "text/x-python",
   "name": "python",
   "nbconvert_exporter": "python",
   "pygments_lexer": "ipython3",
   "version": "3.9.12"
  }
 },
 "nbformat": 4,
 "nbformat_minor": 5
}
